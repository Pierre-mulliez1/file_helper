{
 "cells": [
  {
   "cell_type": "markdown",
   "id": "8be780d5",
   "metadata": {},
   "source": [
    "## File helper\n",
    "### Author: \n",
    "Pierre Mulliez\n",
    "### Creation date: \n",
    "26-10-2021\n",
    "### Last modified: \n",
    "09-12-2021\n",
    "### Description: \n",
    "Helper function to convert csv to excel with the right encoding and other functions, Compare files for differences.\n",
    "### Contact: \n",
    "Pierremulliez1@gmail.com"
   ]
  },
  {
   "cell_type": "code",
   "execution_count": 1,
   "id": "bad0f8d8",
   "metadata": {},
   "outputs": [],
   "source": [
    "#Small code chunk to format excel files \n",
    "import pandas as pd \n",
    "import openpyxl \n",
    "import os\n",
    "from openpyxl import worksheet\n",
    "import re\n",
    "\n",
    "def to_excel(sep1= ',', back = 'Y', empty = 'Y'):\n",
    "    #emptying the destination folder \n",
    "    !del excels /q /s\n",
    "    \n",
    "    #get the name of the file in folder \n",
    "    files = os.listdir('data/')\n",
    "    fil = ''\n",
    "    count = 1\n",
    "    #Convert multiple files \n",
    "    for f in files:\n",
    "        fil = f\n",
    "        DIRECTORY_WHERE_THIS_FILE_IS = os.path.dirname(os.path.abspath(('data/'+fil)))\n",
    "        DATA_PATH = os.path.join(DIRECTORY_WHERE_THIS_FILE_IS, fil)\n",
    "        #read from source using delimiter and using the right encoding for spain \n",
    "        df1 = pd.read_csv(DATA_PATH,sep = sep1, encoding='cp1252')\n",
    "            \n",
    "        if len(df1.columns) < 2:\n",
    "            print('WARNING, only one collumn found')\n",
    "        elif len(df1.columns) < 3:\n",
    "            print('WARNING, only two collumn found')\n",
    "\n",
    "        ##set password ?##\n",
    "        #df1 = df1.worksheets[0]\n",
    "        #df1.protection.set_password('test')\n",
    "\n",
    "        #generate correct output name\n",
    "        txt0 = str(os.path.basename(DATA_PATH))\n",
    "        txt = re.split('\\.',txt0)\n",
    "        #omit row indexing\n",
    "        df1.reset_index(drop=True, inplace=True)\n",
    "        df2 = df1.to_excel(\"excels/{}.xlsx\".format(txt[0]),index=False,sheet_name='extraction_1')\n",
    "        !echo %CD%\n",
    "        \n",
    "        #Warning and escape \n",
    "        if count > 1:\n",
    "            print('Converting multiple files ')\n",
    "        elif count > 3:\n",
    "            print('Error, too many files to convert ')\n",
    "            break \n",
    "        count += 1\n",
    "    \n",
    "    ##Create backup?##\n",
    "    if (back == 'Y'):\n",
    "        !MOVE /Y data\\* backup\n",
    "        \n",
    "    ##emptying the source folder\n",
    "    if (empty == 'Y'):\n",
    "        !del data /q /s"
   ]
  },
  {
   "cell_type": "code",
   "execution_count": 3,
   "id": "6cd53310",
   "metadata": {},
   "outputs": [
    {
     "name": "stderr",
     "output_type": "stream",
     "text": [
      "The filename, directory name, or volume label syntax is incorrect.\n"
     ]
    }
   ],
   "source": [
    "to_excel(sep1= ',',empty = 'N')"
   ]
  },
  {
   "cell_type": "code",
   "execution_count": 5,
   "id": "4103885f",
   "metadata": {},
   "outputs": [],
   "source": [
    "def compare_files(file1,file2,sep1= ',',back = 'Y',empty = 'Y'):\n",
    "    DIRECTORY_WHERE_THIS_FILE_IS = os.path.dirname(os.path.abspath(('data/'+file1)))\n",
    "    DATA_PATH = os.path.join(DIRECTORY_WHERE_THIS_FILE_IS, file1)\n",
    "    DATA_PATH2 = os.path.join(DIRECTORY_WHERE_THIS_FILE_IS, file2)\n",
    "    try:\n",
    "        df1 = pd.read_excel(DATA_PATH)\n",
    "        df2 = pd.read_excel(DATA_PATH2)\n",
    "    except:\n",
    "        print('Delimiter likely not defined properly')\n",
    "        \n",
    "    ##Create backup?##\n",
    "    if (back == 'Y'):\n",
    "        !MOVE /Y data\\* backup\n",
    "    \n",
    "    ##emptying the source folder\n",
    "    if (empty == 'Y'):\n",
    "        !del data /q /s\n",
    "        \n",
    "    #bigger than prev file ?\n",
    "    print('Compare file sizes:')\n",
    "    if len(file2) >= len(file1):\n",
    "        print('file2 bigger by {}'.format(len(df2) - len(df1)))\n",
    "    else:\n",
    "        print('file1 bigger by {}'.format(len(df1) - len(df2)))\n",
    "    print('')\n",
    "    \n",
    "    #are the collumns name equal ?\n",
    "    print('Collumn header equal ?')\n",
    "    print(df1.columns == df2.columns)\n",
    "    print('')\n",
    "    \n",
    "    #null proportion - first col\n",
    "    print('Checking null values')\n",
    "    print('Count of nulls - file1 col1 {}'.format(df1.iloc[:,0].isnull().sum()))\n",
    "    print('Count of nulls - file2 col1 {}'.format(df2.iloc[:,0].isnull().sum()))"
   ]
  },
  {
   "cell_type": "code",
   "execution_count": 6,
   "id": "858f0c35",
   "metadata": {},
   "outputs": [
    {
     "name": "stdout",
     "output_type": "stream",
     "text": [
      "Delimiter likely not defined properly\n"
     ]
    },
    {
     "name": "stderr",
     "output_type": "stream",
     "text": [
      "The filename, directory name, or volume label syntax is incorrect.\n"
     ]
    },
    {
     "name": "stdout",
     "output_type": "stream",
     "text": [
      "Compare file sizes:\n"
     ]
    },
    {
     "ename": "UnboundLocalError",
     "evalue": "local variable 'df2' referenced before assignment",
     "output_type": "error",
     "traceback": [
      "\u001b[1;31m---------------------------------------------------------------------------\u001b[0m",
      "\u001b[1;31mUnboundLocalError\u001b[0m                         Traceback (most recent call last)",
      "\u001b[1;32m<ipython-input-6-933a2415cc5f>\u001b[0m in \u001b[0;36m<module>\u001b[1;34m\u001b[0m\n\u001b[1;32m----> 1\u001b[1;33m \u001b[0mcompare_files\u001b[0m\u001b[1;33m(\u001b[0m\u001b[1;34m'test4.xlsx'\u001b[0m\u001b[1;33m,\u001b[0m\u001b[1;34m'test5.xlsx'\u001b[0m\u001b[1;33m)\u001b[0m\u001b[1;33m\u001b[0m\u001b[1;33m\u001b[0m\u001b[0m\n\u001b[0m",
      "\u001b[1;32m<ipython-input-5-aa47d9298dc4>\u001b[0m in \u001b[0;36mcompare_files\u001b[1;34m(file1, file2, sep1, back, empty)\u001b[0m\n\u001b[0;32m     20\u001b[0m     \u001b[0mprint\u001b[0m\u001b[1;33m(\u001b[0m\u001b[1;34m'Compare file sizes:'\u001b[0m\u001b[1;33m)\u001b[0m\u001b[1;33m\u001b[0m\u001b[1;33m\u001b[0m\u001b[0m\n\u001b[0;32m     21\u001b[0m     \u001b[1;32mif\u001b[0m \u001b[0mlen\u001b[0m\u001b[1;33m(\u001b[0m\u001b[0mfile2\u001b[0m\u001b[1;33m)\u001b[0m \u001b[1;33m>=\u001b[0m \u001b[0mlen\u001b[0m\u001b[1;33m(\u001b[0m\u001b[0mfile1\u001b[0m\u001b[1;33m)\u001b[0m\u001b[1;33m:\u001b[0m\u001b[1;33m\u001b[0m\u001b[1;33m\u001b[0m\u001b[0m\n\u001b[1;32m---> 22\u001b[1;33m         \u001b[0mprint\u001b[0m\u001b[1;33m(\u001b[0m\u001b[1;34m'file2 bigger by {}'\u001b[0m\u001b[1;33m.\u001b[0m\u001b[0mformat\u001b[0m\u001b[1;33m(\u001b[0m\u001b[0mlen\u001b[0m\u001b[1;33m(\u001b[0m\u001b[0mdf2\u001b[0m\u001b[1;33m)\u001b[0m \u001b[1;33m-\u001b[0m \u001b[0mlen\u001b[0m\u001b[1;33m(\u001b[0m\u001b[0mdf1\u001b[0m\u001b[1;33m)\u001b[0m\u001b[1;33m)\u001b[0m\u001b[1;33m)\u001b[0m\u001b[1;33m\u001b[0m\u001b[1;33m\u001b[0m\u001b[0m\n\u001b[0m\u001b[0;32m     23\u001b[0m     \u001b[1;32melse\u001b[0m\u001b[1;33m:\u001b[0m\u001b[1;33m\u001b[0m\u001b[1;33m\u001b[0m\u001b[0m\n\u001b[0;32m     24\u001b[0m         \u001b[0mprint\u001b[0m\u001b[1;33m(\u001b[0m\u001b[1;34m'file1 bigger by {}'\u001b[0m\u001b[1;33m.\u001b[0m\u001b[0mformat\u001b[0m\u001b[1;33m(\u001b[0m\u001b[0mlen\u001b[0m\u001b[1;33m(\u001b[0m\u001b[0mdf1\u001b[0m\u001b[1;33m)\u001b[0m \u001b[1;33m-\u001b[0m \u001b[0mlen\u001b[0m\u001b[1;33m(\u001b[0m\u001b[0mdf2\u001b[0m\u001b[1;33m)\u001b[0m\u001b[1;33m)\u001b[0m\u001b[1;33m)\u001b[0m\u001b[1;33m\u001b[0m\u001b[1;33m\u001b[0m\u001b[0m\n",
      "\u001b[1;31mUnboundLocalError\u001b[0m: local variable 'df2' referenced before assignment"
     ]
    }
   ],
   "source": [
    "compare_files('test4.xlsx','test5.xlsx')"
   ]
  },
  {
   "cell_type": "code",
   "execution_count": null,
   "id": "ed8a41ac",
   "metadata": {},
   "outputs": [],
   "source": []
  }
 ],
 "metadata": {
  "kernelspec": {
   "display_name": "Python 3",
   "language": "python",
   "name": "python3"
  },
  "language_info": {
   "codemirror_mode": {
    "name": "ipython",
    "version": 3
   },
   "file_extension": ".py",
   "mimetype": "text/x-python",
   "name": "python",
   "nbconvert_exporter": "python",
   "pygments_lexer": "ipython3",
   "version": "3.8.8"
  }
 },
 "nbformat": 4,
 "nbformat_minor": 5
}
